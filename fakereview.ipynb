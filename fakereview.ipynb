{
  "nbformat": 4,
  "nbformat_minor": 0,
  "metadata": {
    "colab": {
      "name": "fakereview.ipynb",
      "provenance": [],
      "collapsed_sections": []
    },
    "kernelspec": {
      "name": "python3",
      "display_name": "Python 3"
    }
  },
  "cells": [
    {
      "cell_type": "markdown",
      "metadata": {
        "id": "k399dHafvL5N"
      },
      "source": [
        "Importing the Dependencies"
      ]
    },
    {
      "cell_type": "code",
      "metadata": {
        "id": "-fetC5yqkPVe"
      },
      "source": [
        "import numpy as np\n",
        "import pandas as pd\n",
        "import re\n",
        "import matplotlib.pyplot as plt\n",
        "import seaborn as sns\n",
        "import pickle\n",
        "sns.set()\n",
        "from nltk.corpus import stopwords\n",
        "from nltk.stem.porter import PorterStemmer\n",
        "from sklearn.feature_extraction.text import TfidfVectorizer\n",
        "from sklearn.model_selection import train_test_split\n",
        "from sklearn.linear_model import LogisticRegression\n",
        "from sklearn.metrics import confusion_matrix, accuracy_score\n",
        "from sklearn.metrics import classification_report"
      ],
      "execution_count": 1,
      "outputs": []
    },
    {
      "cell_type": "code",
      "metadata": {
        "colab": {
          "base_uri": "https://localhost:8080/"
        },
        "id": "1AC1YpmGwIDw",
        "outputId": "9b0da19b-f8c4-431a-acee-7029e3e56120"
      },
      "source": [
        "import nltk\n",
        "nltk.download('stopwords')"
      ],
      "execution_count": 2,
      "outputs": [
        {
          "output_type": "stream",
          "name": "stdout",
          "text": [
            "[nltk_data] Downloading package stopwords to /root/nltk_data...\n",
            "[nltk_data]   Unzipping corpora/stopwords.zip.\n"
          ]
        },
        {
          "output_type": "execute_result",
          "data": {
            "text/plain": [
              "True"
            ]
          },
          "metadata": {},
          "execution_count": 2
        }
      ]
    },
    {
      "cell_type": "code",
      "metadata": {
        "colab": {
          "base_uri": "https://localhost:8080/"
        },
        "id": "dxIOt3DowpUR",
        "outputId": "ab781d92-18ac-4d1f-8285-1444e2f9860d"
      },
      "source": [
        "# printing the stopwords in English\n",
        "print(stopwords.words('english'))"
      ],
      "execution_count": 3,
      "outputs": [
        {
          "output_type": "stream",
          "name": "stdout",
          "text": [
            "['i', 'me', 'my', 'myself', 'we', 'our', 'ours', 'ourselves', 'you', \"you're\", \"you've\", \"you'll\", \"you'd\", 'your', 'yours', 'yourself', 'yourselves', 'he', 'him', 'his', 'himself', 'she', \"she's\", 'her', 'hers', 'herself', 'it', \"it's\", 'its', 'itself', 'they', 'them', 'their', 'theirs', 'themselves', 'what', 'which', 'who', 'whom', 'this', 'that', \"that'll\", 'these', 'those', 'am', 'is', 'are', 'was', 'were', 'be', 'been', 'being', 'have', 'has', 'had', 'having', 'do', 'does', 'did', 'doing', 'a', 'an', 'the', 'and', 'but', 'if', 'or', 'because', 'as', 'until', 'while', 'of', 'at', 'by', 'for', 'with', 'about', 'against', 'between', 'into', 'through', 'during', 'before', 'after', 'above', 'below', 'to', 'from', 'up', 'down', 'in', 'out', 'on', 'off', 'over', 'under', 'again', 'further', 'then', 'once', 'here', 'there', 'when', 'where', 'why', 'how', 'all', 'any', 'both', 'each', 'few', 'more', 'most', 'other', 'some', 'such', 'no', 'nor', 'not', 'only', 'own', 'same', 'so', 'than', 'too', 'very', 's', 't', 'can', 'will', 'just', 'don', \"don't\", 'should', \"should've\", 'now', 'd', 'll', 'm', 'o', 're', 've', 'y', 'ain', 'aren', \"aren't\", 'couldn', \"couldn't\", 'didn', \"didn't\", 'doesn', \"doesn't\", 'hadn', \"hadn't\", 'hasn', \"hasn't\", 'haven', \"haven't\", 'isn', \"isn't\", 'ma', 'mightn', \"mightn't\", 'mustn', \"mustn't\", 'needn', \"needn't\", 'shan', \"shan't\", 'shouldn', \"shouldn't\", 'wasn', \"wasn't\", 'weren', \"weren't\", 'won', \"won't\", 'wouldn', \"wouldn't\"]\n"
          ]
        }
      ]
    },
    {
      "cell_type": "markdown",
      "metadata": {
        "id": "NjeGd1CLw_6R"
      },
      "source": [
        "Data Pre-processing"
      ]
    },
    {
      "cell_type": "code",
      "metadata": {
        "id": "nCGcpu_1wzLw"
      },
      "source": [
        "# loading the dataset to a pandas DataFrame\n",
        "df = pd.read_csv('/content/fakereviewsdataset.csv')"
      ],
      "execution_count": 4,
      "outputs": []
    },
    {
      "cell_type": "code",
      "metadata": {
        "id": "aRgmbYSbxV4-",
        "colab": {
          "base_uri": "https://localhost:8080/"
        },
        "outputId": "60f2db70-4a64-4a64-fa6e-3e1a428412cb"
      },
      "source": [
        "df.shape"
      ],
      "execution_count": 5,
      "outputs": [
        {
          "output_type": "execute_result",
          "data": {
            "text/plain": [
              "(40432, 4)"
            ]
          },
          "metadata": {},
          "execution_count": 5
        }
      ]
    },
    {
      "cell_type": "code",
      "metadata": {
        "id": "jjJ1eB6RxZaS",
        "colab": {
          "base_uri": "https://localhost:8080/",
          "height": 206
        },
        "outputId": "a41ab401-2e73-4ce4-d199-5e822250051e"
      },
      "source": [
        "# print the first 5 rows of the dataframe\n",
        "df.head()"
      ],
      "execution_count": 6,
      "outputs": [
        {
          "output_type": "execute_result",
          "data": {
            "text/plain": [
              "             category  rating label  \\\n",
              "0  Home_and_Kitchen_5     5.0    CG   \n",
              "1  Home_and_Kitchen_5     5.0    CG   \n",
              "2  Home_and_Kitchen_5     5.0    CG   \n",
              "3  Home_and_Kitchen_5     1.0    CG   \n",
              "4  Home_and_Kitchen_5     5.0    CG   \n",
              "\n",
              "                                               text_  \n",
              "0  Love this!  Well made, sturdy, and very comfor...  \n",
              "1  love it, a great upgrade from the original.  I...  \n",
              "2  This pillow saved my back. I love the look and...  \n",
              "3  Missing information on how to use it, but it i...  \n",
              "4  Very nice set. Good quality. We have had the s...  "
            ],
            "text/html": [
              "\n",
              "  <div id=\"df-f34099da-0a9f-404b-9656-62871ba10f92\">\n",
              "    <div class=\"colab-df-container\">\n",
              "      <div>\n",
              "<style scoped>\n",
              "    .dataframe tbody tr th:only-of-type {\n",
              "        vertical-align: middle;\n",
              "    }\n",
              "\n",
              "    .dataframe tbody tr th {\n",
              "        vertical-align: top;\n",
              "    }\n",
              "\n",
              "    .dataframe thead th {\n",
              "        text-align: right;\n",
              "    }\n",
              "</style>\n",
              "<table border=\"1\" class=\"dataframe\">\n",
              "  <thead>\n",
              "    <tr style=\"text-align: right;\">\n",
              "      <th></th>\n",
              "      <th>category</th>\n",
              "      <th>rating</th>\n",
              "      <th>label</th>\n",
              "      <th>text_</th>\n",
              "    </tr>\n",
              "  </thead>\n",
              "  <tbody>\n",
              "    <tr>\n",
              "      <th>0</th>\n",
              "      <td>Home_and_Kitchen_5</td>\n",
              "      <td>5.0</td>\n",
              "      <td>CG</td>\n",
              "      <td>Love this!  Well made, sturdy, and very comfor...</td>\n",
              "    </tr>\n",
              "    <tr>\n",
              "      <th>1</th>\n",
              "      <td>Home_and_Kitchen_5</td>\n",
              "      <td>5.0</td>\n",
              "      <td>CG</td>\n",
              "      <td>love it, a great upgrade from the original.  I...</td>\n",
              "    </tr>\n",
              "    <tr>\n",
              "      <th>2</th>\n",
              "      <td>Home_and_Kitchen_5</td>\n",
              "      <td>5.0</td>\n",
              "      <td>CG</td>\n",
              "      <td>This pillow saved my back. I love the look and...</td>\n",
              "    </tr>\n",
              "    <tr>\n",
              "      <th>3</th>\n",
              "      <td>Home_and_Kitchen_5</td>\n",
              "      <td>1.0</td>\n",
              "      <td>CG</td>\n",
              "      <td>Missing information on how to use it, but it i...</td>\n",
              "    </tr>\n",
              "    <tr>\n",
              "      <th>4</th>\n",
              "      <td>Home_and_Kitchen_5</td>\n",
              "      <td>5.0</td>\n",
              "      <td>CG</td>\n",
              "      <td>Very nice set. Good quality. We have had the s...</td>\n",
              "    </tr>\n",
              "  </tbody>\n",
              "</table>\n",
              "</div>\n",
              "      <button class=\"colab-df-convert\" onclick=\"convertToInteractive('df-f34099da-0a9f-404b-9656-62871ba10f92')\"\n",
              "              title=\"Convert this dataframe to an interactive table.\"\n",
              "              style=\"display:none;\">\n",
              "        \n",
              "  <svg xmlns=\"http://www.w3.org/2000/svg\" height=\"24px\"viewBox=\"0 0 24 24\"\n",
              "       width=\"24px\">\n",
              "    <path d=\"M0 0h24v24H0V0z\" fill=\"none\"/>\n",
              "    <path d=\"M18.56 5.44l.94 2.06.94-2.06 2.06-.94-2.06-.94-.94-2.06-.94 2.06-2.06.94zm-11 1L8.5 8.5l.94-2.06 2.06-.94-2.06-.94L8.5 2.5l-.94 2.06-2.06.94zm10 10l.94 2.06.94-2.06 2.06-.94-2.06-.94-.94-2.06-.94 2.06-2.06.94z\"/><path d=\"M17.41 7.96l-1.37-1.37c-.4-.4-.92-.59-1.43-.59-.52 0-1.04.2-1.43.59L10.3 9.45l-7.72 7.72c-.78.78-.78 2.05 0 2.83L4 21.41c.39.39.9.59 1.41.59.51 0 1.02-.2 1.41-.59l7.78-7.78 2.81-2.81c.8-.78.8-2.07 0-2.86zM5.41 20L4 18.59l7.72-7.72 1.47 1.35L5.41 20z\"/>\n",
              "  </svg>\n",
              "      </button>\n",
              "      \n",
              "  <style>\n",
              "    .colab-df-container {\n",
              "      display:flex;\n",
              "      flex-wrap:wrap;\n",
              "      gap: 12px;\n",
              "    }\n",
              "\n",
              "    .colab-df-convert {\n",
              "      background-color: #E8F0FE;\n",
              "      border: none;\n",
              "      border-radius: 50%;\n",
              "      cursor: pointer;\n",
              "      display: none;\n",
              "      fill: #1967D2;\n",
              "      height: 32px;\n",
              "      padding: 0 0 0 0;\n",
              "      width: 32px;\n",
              "    }\n",
              "\n",
              "    .colab-df-convert:hover {\n",
              "      background-color: #E2EBFA;\n",
              "      box-shadow: 0px 1px 2px rgba(60, 64, 67, 0.3), 0px 1px 3px 1px rgba(60, 64, 67, 0.15);\n",
              "      fill: #174EA6;\n",
              "    }\n",
              "\n",
              "    [theme=dark] .colab-df-convert {\n",
              "      background-color: #3B4455;\n",
              "      fill: #D2E3FC;\n",
              "    }\n",
              "\n",
              "    [theme=dark] .colab-df-convert:hover {\n",
              "      background-color: #434B5C;\n",
              "      box-shadow: 0px 1px 3px 1px rgba(0, 0, 0, 0.15);\n",
              "      filter: drop-shadow(0px 1px 2px rgba(0, 0, 0, 0.3));\n",
              "      fill: #FFFFFF;\n",
              "    }\n",
              "  </style>\n",
              "\n",
              "      <script>\n",
              "        const buttonEl =\n",
              "          document.querySelector('#df-f34099da-0a9f-404b-9656-62871ba10f92 button.colab-df-convert');\n",
              "        buttonEl.style.display =\n",
              "          google.colab.kernel.accessAllowed ? 'block' : 'none';\n",
              "\n",
              "        async function convertToInteractive(key) {\n",
              "          const element = document.querySelector('#df-f34099da-0a9f-404b-9656-62871ba10f92');\n",
              "          const dataTable =\n",
              "            await google.colab.kernel.invokeFunction('convertToInteractive',\n",
              "                                                     [key], {});\n",
              "          if (!dataTable) return;\n",
              "\n",
              "          const docLinkHtml = 'Like what you see? Visit the ' +\n",
              "            '<a target=\"_blank\" href=https://colab.research.google.com/notebooks/data_table.ipynb>data table notebook</a>'\n",
              "            + ' to learn more about interactive tables.';\n",
              "          element.innerHTML = '';\n",
              "          dataTable['output_type'] = 'display_data';\n",
              "          await google.colab.output.renderOutput(dataTable, element);\n",
              "          const docLink = document.createElement('div');\n",
              "          docLink.innerHTML = docLinkHtml;\n",
              "          element.appendChild(docLink);\n",
              "        }\n",
              "      </script>\n",
              "    </div>\n",
              "  </div>\n",
              "  "
            ]
          },
          "metadata": {},
          "execution_count": 6
        }
      ]
    },
    {
      "cell_type": "code",
      "source": [
        "target = df.label.value_counts()\n",
        "print(target)\n",
        "\n",
        "sns.countplot(df.label)\n",
        "plt.title(\"Distribution of Real and Fake Reviews\")\n",
        "plt.show()"
      ],
      "metadata": {
        "id": "5mY_Mj3kRrGf",
        "colab": {
          "base_uri": "https://localhost:8080/",
          "height": 408
        },
        "outputId": "025ec442-e448-439b-81b7-82436a1ed906"
      },
      "execution_count": 7,
      "outputs": [
        {
          "output_type": "stream",
          "name": "stdout",
          "text": [
            "CG    20216\n",
            "OR    20216\n",
            "Name: label, dtype: int64\n"
          ]
        },
        {
          "output_type": "stream",
          "name": "stderr",
          "text": [
            "/usr/local/lib/python3.7/dist-packages/seaborn/_decorators.py:43: FutureWarning: Pass the following variable as a keyword arg: x. From version 0.12, the only valid positional argument will be `data`, and passing other arguments without an explicit keyword will result in an error or misinterpretation.\n",
            "  FutureWarning\n"
          ]
        },
        {
          "output_type": "display_data",
          "data": {
            "text/plain": [
              "<Figure size 432x288 with 1 Axes>"
            ],
            "image/png": "[encoded data removed]"
          },
          "metadata": {
            "needs_background": "light"
          }
        }
      ]
    },
    {
      "cell_type": "code",
      "metadata": {
        "id": "QYkDi4SwxlKi",
        "colab": {
          "base_uri": "https://localhost:8080/"
        },
        "outputId": "c789d343-b020-452d-a1ff-f9ef2ca663da"
      },
      "source": [
        "# counting the number of missing values in the dataset\n",
        "df.isnull().sum()"
      ],
      "execution_count": 8,
      "outputs": [
        {
          "output_type": "execute_result",
          "data": {
            "text/plain": [
              "category    0\n",
              "rating      0\n",
              "label       0\n",
              "text_       0\n",
              "dtype: int64"
            ]
          },
          "metadata": {},
          "execution_count": 8
        }
      ]
    },
    {
      "cell_type": "code",
      "metadata": {
        "id": "H7TZgHszygxj",
        "colab": {
          "base_uri": "https://localhost:8080/"
        },
        "outputId": "518fca21-ae95-43b7-e904-4145df7f76bf"
      },
      "source": [
        "#merge rating & review\n",
        "df['review'] = df.astype(str)['rating']+' '+df.astype(str)['text_']\n",
        "print (df['review'])"
      ],
      "execution_count": 9,
      "outputs": [
        {
          "output_type": "stream",
          "name": "stdout",
          "text": [
            "0        5.0 Love this!  Well made, sturdy, and very co...\n",
            "1        5.0 love it, a great upgrade from the original...\n",
            "2        5.0 This pillow saved my back. I love the look...\n",
            "3        1.0 Missing information on how to use it, but ...\n",
            "4        5.0 Very nice set. Good quality. We have had t...\n",
            "                               ...                        \n",
            "40427    4.0 I had read some reviews saying that this b...\n",
            "40428    5.0 I wasn't sure exactly what it would be. It...\n",
            "40429    2.0 You can wear the hood by itself, wear it w...\n",
            "40430    1.0 I liked nothing about this dress. The only...\n",
            "40431    5.0 I work in the wedding industry and have to...\n",
            "Name: review, Length: 40432, dtype: object\n"
          ]
        }
      ]
    },
    {
      "cell_type": "code",
      "execution_count": 10,
      "metadata": {
        "id": "301f9670"
      },
      "outputs": [],
      "source": [
        "# Change the labels\n",
        "df.loc[(df['label'] == \"CG\") , ['label']] = \"FAKE\"\n",
        "df.loc[(df['label'] == \"OR\") , ['label']] = \"REAL\""
      ]
    },
    {
      "cell_type": "code",
      "source": [
        "labels=df.label\n",
        "labels.head()"
      ],
      "metadata": {
        "id": "FcKsOeOKO0sx",
        "colab": {
          "base_uri": "https://localhost:8080/"
        },
        "outputId": "52c0c22b-a6a8-4d8e-b52b-5b15e3f9e26d"
      },
      "execution_count": 11,
      "outputs": [
        {
          "output_type": "execute_result",
          "data": {
            "text/plain": [
              "0    FAKE\n",
              "1    FAKE\n",
              "2    FAKE\n",
              "3    FAKE\n",
              "4    FAKE\n",
              "Name: label, dtype: object"
            ]
          },
          "metadata": {},
          "execution_count": 11
        }
      ]
    },
    {
      "cell_type": "code",
      "metadata": {
        "id": "LfBtAvLtzEo6",
        "colab": {
          "base_uri": "https://localhost:8080/"
        },
        "outputId": "121cbfae-4d70-4f5a-de6d-03361dee574c"
      },
      "source": [
        "# separating the data & label\n",
        "x = df['review'].values\n",
        "y = df['label'].values\n",
        "print (x)\n",
        "print (y)"
      ],
      "execution_count": 12,
      "outputs": [
        {
          "output_type": "stream",
          "name": "stdout",
          "text": [
            "['5.0 Love this!  Well made, sturdy, and very comfortable.  I love it!Very pretty'\n",
            " \"5.0 love it, a great upgrade from the original.  I've had mine for a couple of years\"\n",
            " '5.0 This pillow saved my back. I love the look and feel of this pillow.'\n",
            " ...\n",
            " '2.0 You can wear the hood by itself, wear it with the hood, or wear just the jacket without the hood.  How is that for 3-in-1 systems?\\n\\nReminiscent of what Lands End sells as a \"Squall Jacket\", or what uniform and corporate wear sellers call a Three Season Jacket.\\n\\nWater and wind resistant shell.  Microfleece lined body.  Smooth polyester lining in sleeves.  Left hand side, Napoleon style, inside pocket with a hook and loop closure.  Adjustable sleeve cuffs.  Hemline cinch cord with toggles.  Molded plastic chain style, off brand, slide fastener.\\n\\nPolyester insulation is spilling out due to poor quality stitching.  Item was delivered with a broken main zipper.\\n\\nI can wear this jacket over just a t-shirt, and expect to stay warm @ 72 degrees Fahrenheit, and no wind.\\n\\nIf it was foggy, or there\\'s a light drizzle, I would have no problem depending on this jacket to go 300 - 500 feet in order to get to my car in the parking lot.\\n\\nBetter garments feature Gore-Tex, Hippora, HyVent, DWR.....this jacket features no technology.  You\\'re just hoping that the polyester does not saturate as you\\'re trying to get where you\\'re going.  You will not be going for bike rides, checking your property\\'s fence line by horseback, riding a motorcycle, playing golf, pier fishing, lap dancing, picking strawberries, calling ducks, or anything else in the rain.\\n\\nI guess if you name your company, 32Degrees Weatherproof, the customer does not have a reasonable expectation that your garments will keep them dry & warm.\\n\\nGarment fits tight across the shoulders, back, chest, and arms.  Go 1 size up if you intend on layering.\\n\\nI\\'ve purchased other items from this manufacturer, and frankly, this item was a let down.  It\\'s not warm enough when I need it to be warm.  I put on a few layers, and it is too tight.  I need to stay dry, and I\\'m sooooo wet.\\n\\nAnd to sell a jacket as a 3-in-1 systems jacket........it needs to really be a 3-in-1 systems jacket.  This jacket does not have a removeable liner!'\n",
            " '1.0 I liked nothing about this dress. The only reason I gave it 4 stars is because I ordered the size 6.5 and it fit perfectly. The fabric is a nice thin material and the color is vibrant. It\\'s a little thin on me but it\\'s worth it. The material is soft and comfortable. I love the color and the fit. I\\'m 5\\'4\" and it fits just right. I\\'m a size 6 and it\\'s a bit long on me so I ordered a 6 in order to fit the smaller size. I\\'m 5\\'3\" and it fits perfect and I got it in a medium. It\\'s a nice dress and I\\'m very pleased with it. I like that it\\'s a bit small for me and I can wear it with a top or skirt. I also like that the fabric is made of a good material. I wear a size 5 and it fits well. I\\'m 5\\'3\" and it fits just right. I\\'m 5\\'6\" and it fits just right. I\\'m 5\\'4\" and it fits just right. I wear a size 10.5 and it\\'s a little tight on me. I have a small waist and it\\'s not too tight on me. It\\'s a nice little dress. I will buy more colors.Very nice dress.  It is well made and it is very comfortable.  I received a free sample and will see if I can wear it again.  I would definitely buy another one.  I am very happy with this dress.I love these boots!  I have been wearing them for almost 8 months now and I love them so much that I purchased a second pair.  They are very comfortable and look great. '\n",
            " '5.0 I work in the wedding industry and have to work long days, on my feet, outside in the heat, and have to look professional. I\\'ve spent a ridiculous amount of money on high end dress shoes like Merrels and just have not been able to find a pair that are comfortable to wear all day. Both for my feet and my back. Enter the Sanuk yoga sling!!! These shoes are amazingly comfortable. Though, I will admit it took a few wears to get used to the feel of the yoga matte bottom. At first, it felt a little \"sticky\" to me, and the fabric part that goes through the toe area was a little thick and took some getting used to. I wore them for a few days before taking them out on a job and I can\\'t get over how comfortable they are. Ii have been wearing these shoes now for 3 months, every work day and I am THRILLED. No more back pain, no more sore feet. I also wear these sometimes during my off time,mans every time I wear them, I get compliments on how cute and comfortable they look. The great thing about these shoes is the yoga matte bottom. It helps your feet grip to the shoe a bit, so your foot can just walk normally, without having to grip the shoe. You may not realize it, but with a lot of Sandals, your foot is having to work to keep the shoe on, changing the way you walk and stand and ultimately causing foot and back pain. Not with these! Also, the soft linen sits comfortably on your skin and breathes nicely in the heat. The only downside is the funky tan lines, which is why I am sure to alternate shoes on my days off, especially if I plan to be outside for most of the day. If it were not for that, I think these might be the only shoes I\\'d wear all summer. If you are looking for a reasonable priced, comfortable shoe that you can wear and walk in all day.']\n",
            "['FAKE' 'FAKE' 'FAKE' ... 'REAL' 'FAKE' 'REAL']\n"
          ]
        }
      ]
    },
    {
      "cell_type": "markdown",
      "metadata": {
        "id": "0NwFcpqcz37a"
      },
      "source": [
        "Stemming:\n",
        "\n",
        "Stemming is the process of reducing a word to its Root word\n",
        "\n",
        "example:\n",
        "actor, actress, acting --> act"
      ]
    },
    {
      "cell_type": "code",
      "metadata": {
        "id": "Ga_DaZxhzoWM"
      },
      "source": [
        "port_stem = PorterStemmer()"
      ],
      "execution_count": 13,
      "outputs": []
    },
    {
      "cell_type": "code",
      "metadata": {
        "id": "zY-n0dCh0e-y"
      },
      "source": [
        "def stemming(review):\n",
        "    stemmed_review = re.sub('[^a-zA-Z]',' ',review)\n",
        "    stemmed_review = stemmed_review.lower()\n",
        "    stemmed_review = stemmed_review.split()\n",
        "    stemmed_review = [port_stem.stem(word) for word in stemmed_review if not word in stopwords.words('english')]\n",
        "    stemmed_review = ' '.join(stemmed_review)\n",
        "    return stemmed_review"
      ],
      "execution_count": 14,
      "outputs": []
    },
    {
      "cell_type": "code",
      "metadata": {
        "id": "MBUIk4c94yTL"
      },
      "source": [
        "df['review'] = df['review'].apply(stemming)"
      ],
      "execution_count": 15,
      "outputs": []
    },
    {
      "cell_type": "code",
      "metadata": {
        "id": "xmwK-zyO5Stg",
        "colab": {
          "base_uri": "https://localhost:8080/"
        },
        "outputId": "c4fecef4-0a2b-4ae8-a670-4d34e5b4e182"
      },
      "source": [
        "print(df['review'])"
      ],
      "execution_count": 16,
      "outputs": [
        {
          "output_type": "stream",
          "name": "stdout",
          "text": [
            "0                love well made sturdi comfort love pretti\n",
            "1                 love great upgrad origin mine coupl year\n",
            "2                   pillow save back love look feel pillow\n",
            "3                      miss inform use great product price\n",
            "4                      nice set good qualiti set two month\n",
            "                               ...                        \n",
            "40427    read review say bra ran small order two band c...\n",
            "40428    sure exactli would littl larg small size think...\n",
            "40429    wear hood wear hood wear jacket without hood s...\n",
            "40430    like noth dress reason gave star order size fi...\n",
            "40431    work wed industri work long day feet outsid he...\n",
            "Name: review, Length: 40432, dtype: object\n"
          ]
        }
      ]
    },
    {
      "cell_type": "code",
      "metadata": {
        "id": "5ZIidnta5k5h"
      },
      "source": [
        "#separating the data and label\n",
        "x = df['review'].values\n",
        "y = df['label'].values"
      ],
      "execution_count": 17,
      "outputs": []
    },
    {
      "cell_type": "code",
      "metadata": {
        "id": "3nA_SBZX6BeH",
        "colab": {
          "base_uri": "https://localhost:8080/"
        },
        "outputId": "b9eb11b6-46ef-4c06-9438-302c281c026d"
      },
      "source": [
        "print(x)\n",
        "print(y)"
      ],
      "execution_count": 18,
      "outputs": [
        {
          "output_type": "stream",
          "name": "stdout",
          "text": [
            "['love well made sturdi comfort love pretti'\n",
            " 'love great upgrad origin mine coupl year'\n",
            " 'pillow save back love look feel pillow' ...\n",
            " 'wear hood wear hood wear jacket without hood system reminisc land end sell squall jacket uniform corpor wear seller call three season jacket water wind resist shell microfleec line bodi smooth polyest line sleev left hand side napoleon style insid pocket hook loop closur adjust sleev cuff hemlin cinch cord toggl mold plastic chain style brand slide fasten polyest insul spill due poor qualiti stitch item deliv broken main zipper wear jacket shirt expect stay warm degre fahrenheit wind foggi light drizzl would problem depend jacket go feet order get car park lot better garment featur gore tex hippora hyvent dwr jacket featur technolog hope polyest satur tri get go go bike ride check properti fenc line horseback ride motorcycl play golf pier fish lap danc pick strawberri call duck anyth els rain guess name compani degre weatherproof custom reason expect garment keep dri warm garment fit tight across shoulder back chest arm go size intend layer purchas item manufactur frankli item let warm enough need warm put layer tight need stay dri sooooo wet sell jacket system jacket need realli system jacket jacket remov liner'\n",
            " 'like noth dress reason gave star order size fit perfectli fabric nice thin materi color vibrant littl thin worth materi soft comfort love color fit fit right size bit long order order fit smaller size fit perfect got medium nice dress pleas like bit small wear top skirt also like fabric made good materi wear size fit well fit right fit right fit right wear size littl tight small waist tight nice littl dress buy color nice dress well made comfort receiv free sampl see wear would definit buy anoth one happi dress love boot wear almost month love much purchas second pair comfort look great'\n",
            " 'work wed industri work long day feet outsid heat look profession spent ridicul amount money high end dress shoe like merrel abl find pair comfort wear day feet back enter sanuk yoga sling shoe amazingli comfort though admit took wear get use feel yoga matt bottom first felt littl sticki fabric part goe toe area littl thick took get use wore day take job get comfort ii wear shoe month everi work day thrill back pain sore feet also wear sometim time man everi time wear get compliment cute comfort look great thing shoe yoga matt bottom help feet grip shoe bit foot walk normal without grip shoe may realiz lot sandal foot work keep shoe chang way walk stand ultim caus foot back pain also soft linen sit comfort skin breath nice heat downsid funki tan line sure altern shoe day especi plan outsid day think might shoe wear summer look reason price comfort shoe wear walk day']\n",
            "['FAKE' 'FAKE' 'FAKE' ... 'REAL' 'FAKE' 'REAL']\n"
          ]
        }
      ]
    },
    {
      "cell_type": "code",
      "metadata": {
        "id": "Iu2ZEBkL6QTm",
        "colab": {
          "base_uri": "https://localhost:8080/"
        },
        "outputId": "ed6de0c9-ba94-4e52-e156-b961ffbe5c26"
      },
      "source": [
        "y.shape"
      ],
      "execution_count": 19,
      "outputs": [
        {
          "output_type": "execute_result",
          "data": {
            "text/plain": [
              "(40432,)"
            ]
          },
          "metadata": {},
          "execution_count": 19
        }
      ]
    },
    {
      "cell_type": "code",
      "metadata": {
        "id": "BMfepsQZ6TES"
      },
      "source": [
        "# converting the textual data to numerical data\n",
        "vectorizer = TfidfVectorizer()\n",
        "vectorizer.fit(x)\n",
        "\n",
        "x = vectorizer.transform(x)"
      ],
      "execution_count": 20,
      "outputs": []
    },
    {
      "cell_type": "code",
      "metadata": {
        "id": "MJj5esbs7Nzy",
        "colab": {
          "base_uri": "https://localhost:8080/"
        },
        "outputId": "e176593e-32dd-45fe-985e-6d444ac785ff"
      },
      "source": [
        "print(x)"
      ],
      "execution_count": 21,
      "outputs": [
        {
          "output_type": "stream",
          "name": "stdout",
          "text": [
            "  (0, 25364)\t0.284547299950192\n",
            "  (0, 22213)\t0.45773233923900697\n",
            "  (0, 17833)\t0.4207318495755189\n",
            "  (0, 13736)\t0.3748943864264146\n",
            "  (0, 13518)\t0.4778352051146069\n",
            "  (0, 4475)\t0.4045075601736619\n",
            "  (1, 26073)\t0.2815196022107953\n",
            "  (1, 24531)\t0.5596672292130287\n",
            "  (1, 16251)\t0.430922792959497\n",
            "  (1, 14617)\t0.4816500260971305\n",
            "  (1, 13518)\t0.18870158255910824\n",
            "  (1, 9627)\t0.18830328428685245\n",
            "  (1, 4941)\t0.34463268975995237\n",
            "  (2, 19943)\t0.36098940205422503\n",
            "  (2, 17226)\t0.8254196550584214\n",
            "  (2, 13518)\t0.14544896067619023\n",
            "  (2, 13440)\t0.19669827145589205\n",
            "  (2, 8007)\t0.24915145380243905\n",
            "  (2, 1515)\t0.25777313195983215\n",
            "  (3, 24591)\t0.2652693964246526\n",
            "  (3, 17950)\t0.3381046187133953\n",
            "  (3, 17851)\t0.3595784352730378\n",
            "  (3, 14734)\t0.5624306519125654\n",
            "  (3, 11359)\t0.5636218560039937\n",
            "  (3, 9627)\t0.22808535296152582\n",
            "  :\t:\n",
            "  (40431, 8007)\t0.03785206417932268\n",
            "  (40431, 7790)\t0.056206607089328564\n",
            "  (40431, 7585)\t0.08820082768966037\n",
            "  (40431, 7473)\t0.05018889724710905\n",
            "  (40431, 7322)\t0.0729965539854673\n",
            "  (40431, 7246)\t0.037784418395359606\n",
            "  (40431, 6624)\t0.05628977712774745\n",
            "  (40431, 6549)\t0.05769432788173945\n",
            "  (40431, 5539)\t0.27342417500375915\n",
            "  (40431, 5322)\t0.04581521935766723\n",
            "  (40431, 4542)\t0.06553768549990921\n",
            "  (40431, 4475)\t0.2244742398751752\n",
            "  (40431, 3757)\t0.04692776920747406\n",
            "  (40431, 3581)\t0.05740932784170195\n",
            "  (40431, 2751)\t0.06805183240329313\n",
            "  (40431, 2607)\t0.09976017993083239\n",
            "  (40431, 2232)\t0.033552997957043626\n",
            "  (40431, 1515)\t0.11748570982514245\n",
            "  (40431, 1050)\t0.053414926335730355\n",
            "  (40431, 707)\t0.05511076976899517\n",
            "  (40431, 654)\t0.07522174970729768\n",
            "  (40431, 615)\t0.06518638824521639\n",
            "  (40431, 608)\t0.06138952476216443\n",
            "  (40431, 225)\t0.053209465056932845\n",
            "  (40431, 40)\t0.044181007588849956\n"
          ]
        }
      ]
    },
    {
      "cell_type": "markdown",
      "metadata": {
        "id": "mKBRGiSQ7YCZ"
      },
      "source": [
        "Splitting the dataset to training & test data"
      ]
    },
    {
      "cell_type": "code",
      "metadata": {
        "id": "VjMYwmBo7Pbx"
      },
      "source": [
        "x_train, x_test, y_train, y_test = train_test_split(x, y, test_size = 0.2, stratify=y, random_state=2)"
      ],
      "execution_count": 22,
      "outputs": []
    },
    {
      "cell_type": "markdown",
      "metadata": {
        "id": "rxDsQvgO8Oln"
      },
      "source": [
        "Training the Model: Logistic Regression"
      ]
    },
    {
      "cell_type": "code",
      "metadata": {
        "id": "HrSItcqc7qAy"
      },
      "source": [
        "model = LogisticRegression(solver='lbfgs', max_iter=1000)"
      ],
      "execution_count": 23,
      "outputs": []
    },
    {
      "cell_type": "code",
      "metadata": {
        "id": "fdVJ839l8Vgx",
        "colab": {
          "base_uri": "https://localhost:8080/"
        },
        "outputId": "a10a77bb-5f14-4ba9-9a43-9f11c2c999c3"
      },
      "source": [
        "model.fit(x_train, y_train)"
      ],
      "execution_count": 24,
      "outputs": [
        {
          "output_type": "execute_result",
          "data": {
            "text/plain": [
              "LogisticRegression(max_iter=1000)"
            ]
          },
          "metadata": {},
          "execution_count": 24
        }
      ]
    },
    {
      "cell_type": "markdown",
      "metadata": {
        "id": "sbPKIFT89W1C"
      },
      "source": [
        "Evaluation"
      ]
    },
    {
      "cell_type": "markdown",
      "metadata": {
        "id": "YG6gqVty9ZDB"
      },
      "source": [
        "accuracy score"
      ]
    },
    {
      "cell_type": "code",
      "metadata": {
        "id": "VgwtWZY59PBw"
      },
      "source": [
        "# accuracy score on the training data\n",
        "x_train_prediction = model.predict(x_train)\n",
        "training_data_accuracy = accuracy_score(x_train_prediction, y_train)"
      ],
      "execution_count": 25,
      "outputs": []
    },
    {
      "cell_type": "code",
      "metadata": {
        "id": "4L-r5mld-BFn",
        "colab": {
          "base_uri": "https://localhost:8080/"
        },
        "outputId": "514bcab0-5364-4c0b-d7c7-f0eed1e41c51"
      },
      "source": [
        "print('Accuracy score of the training data : ', training_data_accuracy)"
      ],
      "execution_count": 26,
      "outputs": [
        {
          "output_type": "stream",
          "name": "stdout",
          "text": [
            "Accuracy score of the training data :  0.8926882052867522\n"
          ]
        }
      ]
    },
    {
      "cell_type": "code",
      "metadata": {
        "id": "Kgcn13oO-H6e"
      },
      "source": [
        "# accuracy score on the test data\n",
        "x_test_prediction = model.predict(x_test)\n",
        "test_data_accuracy = accuracy_score(x_test_prediction, y_test)"
      ],
      "execution_count": 27,
      "outputs": []
    },
    {
      "cell_type": "code",
      "metadata": {
        "id": "9TG0Yof1-vg2",
        "colab": {
          "base_uri": "https://localhost:8080/"
        },
        "outputId": "a746c193-0f0f-4617-8de4-ace338817219"
      },
      "source": [
        "print('Accuracy score of the test data : ', test_data_accuracy)"
      ],
      "execution_count": 28,
      "outputs": [
        {
          "output_type": "stream",
          "name": "stdout",
          "text": [
            "Accuracy score of the test data :  0.868801780635588\n"
          ]
        }
      ]
    },
    {
      "cell_type": "markdown",
      "metadata": {
        "id": "Yun4seaE-6tV"
      },
      "source": [
        "Making a Predictive System"
      ]
    },
    {
      "cell_type": "code",
      "metadata": {
        "id": "lPjssDL_-zo8",
        "colab": {
          "base_uri": "https://localhost:8080/"
        },
        "outputId": "06ecb2dd-1b23-4ecb-cbc9-cd4105d87bcb"
      },
      "source": [
        "x_new = x_test[3]\n",
        "\n",
        "prediction = model.predict(x_new)\n",
        "print(prediction)\n",
        "\n",
        "if (prediction[0]==0):\n",
        "  print('The review is Real')\n",
        "else:\n",
        "  print('The review is Fake')"
      ],
      "execution_count": 29,
      "outputs": [
        {
          "output_type": "stream",
          "name": "stdout",
          "text": [
            "['FAKE']\n",
            "The review is Fake\n"
          ]
        }
      ]
    },
    {
      "cell_type": "code",
      "metadata": {
        "id": "8KaWdvDI_eUk",
        "colab": {
          "base_uri": "https://localhost:8080/"
        },
        "outputId": "61b7a33a-a7f2-4367-ca6b-2733a62e9413"
      },
      "source": [
        "print(y_test[3])"
      ],
      "execution_count": 30,
      "outputs": [
        {
          "output_type": "stream",
          "name": "stdout",
          "text": [
            "FAKE\n"
          ]
        }
      ]
    },
    {
      "cell_type": "code",
      "source": [
        "y_pred = model.predict(x_test)"
      ],
      "metadata": {
        "id": "ktQcKXRFXu7D"
      },
      "execution_count": 31,
      "outputs": []
    },
    {
      "cell_type": "code",
      "source": [
        "confusion_matrix(y, model.predict(x))"
      ],
      "metadata": {
        "id": "84NpDuYumCv9",
        "colab": {
          "base_uri": "https://localhost:8080/"
        },
        "outputId": "47f451aa-f8d9-4013-9cc3-6cbb7179586c"
      },
      "execution_count": 32,
      "outputs": [
        {
          "output_type": "execute_result",
          "data": {
            "text/plain": [
              "array([[17638,  2578],\n",
              "       [ 1954, 18262]])"
            ]
          },
          "metadata": {},
          "execution_count": 32
        }
      ]
    },
    {
      "cell_type": "code",
      "metadata": {
        "id": "JBbWkLGr_lb_",
        "colab": {
          "base_uri": "https://localhost:8080/"
        },
        "outputId": "d71e00e2-a3d3-4d27-8489-60d163f41c85"
      },
      "source": [
        "confusion_matrix = confusion_matrix(y_test, y_pred, labels=['FAKE','REAL'])\n",
        "print (confusion_matrix)"
      ],
      "execution_count": 33,
      "outputs": [
        {
          "output_type": "stream",
          "name": "stdout",
          "text": [
            "[[3424  620]\n",
            " [ 441 3602]]\n"
          ]
        }
      ]
    },
    {
      "cell_type": "code",
      "source": [
        "print (classification_report(y_test, y_pred))"
      ],
      "metadata": {
        "id": "FbU9A-rNYmNQ",
        "colab": {
          "base_uri": "https://localhost:8080/"
        },
        "outputId": "85102307-5638-4b69-b327-04187282e11a"
      },
      "execution_count": 34,
      "outputs": [
        {
          "output_type": "stream",
          "name": "stdout",
          "text": [
            "              precision    recall  f1-score   support\n",
            "\n",
            "        FAKE       0.89      0.85      0.87      4044\n",
            "        REAL       0.85      0.89      0.87      4043\n",
            "\n",
            "    accuracy                           0.87      8087\n",
            "   macro avg       0.87      0.87      0.87      8087\n",
            "weighted avg       0.87      0.87      0.87      8087\n",
            "\n"
          ]
        }
      ]
    },
    {
      "cell_type": "markdown",
      "source": [
        "Pickling model"
      ],
      "metadata": {
        "id": "64jjUMVZdRVI"
      }
    },
    {
      "cell_type": "code",
      "source": [
        "pickle.dump(model, open('model.pkl', 'wb'))"
      ],
      "metadata": {
        "id": "T1u_DArbdS_e"
      },
      "execution_count": 35,
      "outputs": []
    },
    {
      "cell_type": "code",
      "source": [
        "filename = 'vectorizer.pkl'\n",
        "pickle.dump(vectorizer, open(filename, 'wb'))"
      ],
      "metadata": {
        "id": "UHAzwM5G8T0z"
      },
      "execution_count": 36,
      "outputs": []
    },
    {
      "cell_type": "code",
      "source": [
        "model = pickle.load(open('model.pkl','rb'))"
      ],
      "metadata": {
        "id": "bMjK7LirdlQF"
      },
      "execution_count": 37,
      "outputs": []
    },
    {
      "cell_type": "code",
      "source": [
        "model.predict(x_test)"
      ],
      "metadata": {
        "colab": {
          "base_uri": "https://localhost:8080/"
        },
        "id": "nTlqeQ4Cek9w",
        "outputId": "f0d5d04b-ca41-4aec-ea16-1e46dbf4f41e"
      },
      "execution_count": 38,
      "outputs": [
        {
          "output_type": "execute_result",
          "data": {
            "text/plain": [
              "array(['REAL', 'REAL', 'FAKE', ..., 'REAL', 'FAKE', 'FAKE'], dtype=object)"
            ]
          },
          "metadata": {},
          "execution_count": 38
        }
      ]
    }
  ]
}